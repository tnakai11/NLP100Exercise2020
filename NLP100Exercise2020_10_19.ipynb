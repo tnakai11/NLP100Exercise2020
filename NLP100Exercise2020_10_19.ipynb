{
  "nbformat": 4,
  "nbformat_minor": 0,
  "metadata": {
    "colab": {
      "name": "NLP100Exercise2020_10-19.ipynb",
      "provenance": []
    },
    "kernelspec": {
      "name": "python3",
      "display_name": "Python 3"
    },
    "language_info": {
      "name": "python"
    }
  },
  "cells": [
    {
      "cell_type": "markdown",
      "metadata": {
        "id": "zQV3fUs6CjT-"
      },
      "source": [
        "言語処理百本ノック-02\n",
        "https://nlp100.github.io/ja/ch02.html"
      ]
    },
    {
      "cell_type": "markdown",
      "metadata": {
        "id": "k0YiR7opDLZ8"
      },
      "source": [
        "  # 第2章: UNIXコマンド"
      ]
    },
    {
      "cell_type": "code",
      "metadata": {
        "id": "d3x7nhfAdlzj"
      },
      "source": [
        "text_file_name = 'popular-names.txt'"
      ],
      "execution_count": 1,
      "outputs": []
    },
    {
      "cell_type": "markdown",
      "metadata": {
        "id": "qIsZbU89DQlD"
      },
      "source": [
        "## 10. 行数のカウント\n",
        "行数をカウントせよ．確認にはwcコマンドを用いよ"
      ]
    },
    {
      "cell_type": "code",
      "metadata": {
        "colab": {
          "base_uri": "https://localhost:8080/"
        },
        "id": "jGzVGz6PCc-s",
        "outputId": "e886376f-bc35-4154-e5cb-b11b6a1cc6af"
      },
      "source": [
        "!ls"
      ],
      "execution_count": 2,
      "outputs": [
        {
          "output_type": "stream",
          "name": "stdout",
          "text": [
            "col1.txt  col2.txt  merge.txt  popular-names.txt  sample_data\n"
          ]
        }
      ]
    },
    {
      "cell_type": "code",
      "metadata": {
        "colab": {
          "base_uri": "https://localhost:8080/"
        },
        "id": "UXnN4zdmdjQZ",
        "outputId": "9dd653f3-aa8b-4992-fcd4-ae676931484e"
      },
      "source": [
        "def solve10():\n",
        "  with open(text_file_name,'r') as file:\n",
        "    lines = file.readlines()\n",
        "  answer = len(lines)\n",
        "  return answer\n",
        "solve10()"
      ],
      "execution_count": 3,
      "outputs": [
        {
          "output_type": "execute_result",
          "data": {
            "text/plain": [
              "2780"
            ]
          },
          "metadata": {},
          "execution_count": 3
        }
      ]
    },
    {
      "cell_type": "code",
      "metadata": {
        "colab": {
          "base_uri": "https://localhost:8080/"
        },
        "id": "PZ1MlX6pDenj",
        "outputId": "79dbf769-79da-428a-ebd3-1a2a76039aad"
      },
      "source": [
        "!wc -l popular-names.txt"
      ],
      "execution_count": 4,
      "outputs": [
        {
          "output_type": "stream",
          "name": "stdout",
          "text": [
            "2780 popular-names.txt\n"
          ]
        }
      ]
    },
    {
      "cell_type": "markdown",
      "metadata": {
        "id": "d3Gv3J1QET7i"
      },
      "source": [
        "## 11. タブをスペースに置換\n",
        "タブ1文字につきスペース1文字に置換せよ．確認にはsedコマンド，trコマンド，もしくはexpandコマンドを用いよ．"
      ]
    },
    {
      "cell_type": "code",
      "metadata": {
        "colab": {
          "base_uri": "https://localhost:8080/"
        },
        "id": "s4OgQGk-eDMu",
        "outputId": "f31e8f17-0f15-4675-bd66-8d30af4cc01b"
      },
      "source": [
        "def solve11():\n",
        "  with open(text_file_name,'r') as file:\n",
        "    lines = file.readlines()\n",
        "    answer = ''.join([ line.replace('\\t',' ') for line in lines ])\n",
        "  return answer\n",
        "print(solve11()[:100],'...')"
      ],
      "execution_count": 5,
      "outputs": [
        {
          "output_type": "stream",
          "name": "stdout",
          "text": [
            "Mary F 7065 1880\n",
            "Anna F 2604 1880\n",
            "Emma F 2003 1880\n",
            "Elizabeth F 1939 1880\n",
            "Minnie F 1746 1880\n",
            "Margaret ...\n"
          ]
        }
      ]
    },
    {
      "cell_type": "code",
      "metadata": {
        "colab": {
          "base_uri": "https://localhost:8080/"
        },
        "id": "7TTS_qUTETcn",
        "outputId": "eee5c194-21da-430a-ad41-7046b5580c63"
      },
      "source": [
        "!sed -e 's/\\t/ /g' popular-names.txt | head -n 12"
      ],
      "execution_count": 6,
      "outputs": [
        {
          "output_type": "stream",
          "name": "stdout",
          "text": [
            "Mary F 7065 1880\n",
            "Anna F 2604 1880\n",
            "Emma F 2003 1880\n",
            "Elizabeth F 1939 1880\n",
            "Minnie F 1746 1880\n",
            "Margaret F 1578 1880\n",
            "Ida F 1472 1880\n",
            "Alice F 1414 1880\n",
            "Bertha F 1320 1880\n",
            "Sarah F 1288 1880\n",
            "John M 9655 1880\n",
            "William M 9532 1880\n"
          ]
        }
      ]
    },
    {
      "cell_type": "markdown",
      "metadata": {
        "id": "mD0tsmo6FYt3"
      },
      "source": [
        "## 12. 1列目をcol1.txtに，2列目をcol2.txtに保存\n",
        "各行の1列目だけを抜き出したものをcol1.txtに，2列目だけを抜き出したものをcol2.txtとしてファイルに保存せよ．確認にはcutコマンドを用いよ．"
      ]
    },
    {
      "cell_type": "code",
      "metadata": {
        "colab": {
          "base_uri": "https://localhost:8080/"
        },
        "id": "m05i-tRSemvz",
        "outputId": "9ba5ec6f-1b1e-45ae-cb19-c558261347e9"
      },
      "source": [
        "col1_file_name = 'col1.txt'\n",
        "col2_file_name = 'col2.txt'\n",
        "def solve12():\n",
        "  with open(text_file_name,'r') as file:\n",
        "    lines = file.readlines()\n",
        "  rows = [ line.split() for line in lines  ]\n",
        "  col1 = '\\n'.join([ row[0] for row in rows ])\n",
        "  col2 = '\\n'.join([ row[1] for row in rows ])\n",
        "  for file_name, col in zip([col1_file_name,col2_file_name],[col1,col2]):\n",
        "    with open(file_name,'w') as file:\n",
        "      file.write(col)\n",
        "solve12()\n",
        "!head col1.txt -n 5\n",
        "!head col2.txt -n 5"
      ],
      "execution_count": 7,
      "outputs": [
        {
          "output_type": "stream",
          "name": "stdout",
          "text": [
            "Mary\n",
            "Anna\n",
            "Emma\n",
            "Elizabeth\n",
            "Minnie\n",
            "F\n",
            "F\n",
            "F\n",
            "F\n",
            "F\n"
          ]
        }
      ]
    },
    {
      "cell_type": "code",
      "metadata": {
        "colab": {
          "base_uri": "https://localhost:8080/"
        },
        "id": "SWmv5eyLFdGA",
        "outputId": "a729d3c7-65df-498f-a7c7-3e1901c710d9"
      },
      "source": [
        "!cut -f1 popular-names.txt > col1.txt\n",
        "!cut -f2 popular-names.txt > col2.txt\n",
        "!cat col1.txt | head -n 5\n",
        "!head col2.txt -n 5"
      ],
      "execution_count": 8,
      "outputs": [
        {
          "output_type": "stream",
          "name": "stdout",
          "text": [
            "Mary\n",
            "Anna\n",
            "Emma\n",
            "Elizabeth\n",
            "Minnie\n",
            "F\n",
            "F\n",
            "F\n",
            "F\n",
            "F\n"
          ]
        }
      ]
    },
    {
      "cell_type": "markdown",
      "metadata": {
        "id": "Kfa3nppXa5v3"
      },
      "source": [
        "## 13. col1.txtとcol2.txtをマージ\n",
        "12で作ったcol1.txtとcol2.txtを結合し，元のファイルの1列目と2列目をタブ区切りで並べたテキストファイルを作成せよ．確認にはpasteコマンドを用いよ．"
      ]
    },
    {
      "cell_type": "code",
      "metadata": {
        "colab": {
          "base_uri": "https://localhost:8080/"
        },
        "id": "8BnP3p2xgzPf",
        "outputId": "d65de368-5546-43e5-a5d4-00be02d9db97"
      },
      "source": [
        "col_file_names = ['col1.txt','col2.txt']\n",
        "merge_file_name = 'merge.txt'\n",
        "def solve13():\n",
        "  rows = [None for _ in range(2)]\n",
        "  for i, file_name in enumerate(col_file_names):\n",
        "    with open(file_name,'r') as file:\n",
        "      rows[i] = [ line.split()[0] for line in file.readlines() ]\n",
        "  merge = '\\n'.join([str(item1)+'\\t'+str(item2) for item1,item2 in zip(rows[0],rows[1]) ])\n",
        "  with open(merge_file_name,'w') as file:\n",
        "    file.write(merge)\n",
        "solve13()\n",
        "!head merge.txt -n 5"
      ],
      "execution_count": 9,
      "outputs": [
        {
          "output_type": "stream",
          "name": "stdout",
          "text": [
            "Mary\tF\n",
            "Anna\tF\n",
            "Emma\tF\n",
            "Elizabeth\tF\n",
            "Minnie\tF\n"
          ]
        }
      ]
    },
    {
      "cell_type": "code",
      "metadata": {
        "colab": {
          "base_uri": "https://localhost:8080/"
        },
        "id": "AqQd_hbKa5fi",
        "outputId": "93025d3c-c424-4261-aa77-8c0902080411"
      },
      "source": [
        "!paste col1.txt col2.txt > merge.txt\n",
        "!head merge.txt -n 5"
      ],
      "execution_count": 10,
      "outputs": [
        {
          "output_type": "stream",
          "name": "stdout",
          "text": [
            "Mary\tF\n",
            "Anna\tF\n",
            "Emma\tF\n",
            "Elizabeth\tF\n",
            "Minnie\tF\n"
          ]
        }
      ]
    },
    {
      "cell_type": "markdown",
      "metadata": {
        "id": "S7MBrKcYHy-n"
      },
      "source": [
        "## 14. 先頭からN行を出力\n",
        "自然数Nをコマンドライン引数などの手段で受け取り，入力のうち先頭のN行だけを表示せよ．確認にはheadコマンドを用いよ．"
      ]
    },
    {
      "cell_type": "code",
      "metadata": {
        "colab": {
          "base_uri": "https://localhost:8080/"
        },
        "id": "QU3-BKTOjyyd",
        "outputId": "326884cd-36ed-460d-d291-b6dbc7dba5a5"
      },
      "source": [
        "def solve14(file_name,N):\n",
        "  with open(file_name,'r') as file:\n",
        "    lines = file.readlines()\n",
        "  head = ''.join(lines[:N])\n",
        "  return head\n",
        "\n",
        "# import sys\n",
        "# argv = sys.argv\n",
        "# file_name = argv[1]\n",
        "# N = int(argv[2])\n",
        "print(solve14('popular-names.txt',5))"
      ],
      "execution_count": 11,
      "outputs": [
        {
          "output_type": "stream",
          "name": "stdout",
          "text": [
            "Mary\tF\t7065\t1880\n",
            "Anna\tF\t2604\t1880\n",
            "Emma\tF\t2003\t1880\n",
            "Elizabeth\tF\t1939\t1880\n",
            "Minnie\tF\t1746\t1880\n",
            "\n"
          ]
        }
      ]
    },
    {
      "cell_type": "code",
      "metadata": {
        "colab": {
          "base_uri": "https://localhost:8080/"
        },
        "id": "7o9NttI3chRg",
        "outputId": "771a44d9-9ed4-41e0-fc22-edf82b50d4bd"
      },
      "source": [
        "!head popular-names.txt -n 5"
      ],
      "execution_count": 12,
      "outputs": [
        {
          "output_type": "stream",
          "name": "stdout",
          "text": [
            "Mary\tF\t7065\t1880\n",
            "Anna\tF\t2604\t1880\n",
            "Emma\tF\t2003\t1880\n",
            "Elizabeth\tF\t1939\t1880\n",
            "Minnie\tF\t1746\t1880\n"
          ]
        }
      ]
    },
    {
      "cell_type": "markdown",
      "metadata": {
        "id": "wi4e6gJLdDFZ"
      },
      "source": [
        "## 15. 末尾のN行を出力\n",
        "自然数Nをコマンドライン引数などの手段で受け取り，入力のうち末尾のN行だけを表示せよ．確認にはtailコマンドを用いよ．"
      ]
    },
    {
      "cell_type": "code",
      "metadata": {
        "colab": {
          "base_uri": "https://localhost:8080/"
        },
        "id": "3MsDKhYf0e04",
        "outputId": "be90dbdd-2b06-45dd-a0fb-3d7de24e5303"
      },
      "source": [
        "def solve15(file_name,N):\n",
        "  with open(file_name,'r') as file:\n",
        "    lines = file.readlines()\n",
        "  tail = ''.join(lines[-N:])\n",
        "  return tail\n",
        "\n",
        "# import sys\n",
        "# argv = sys.argv\n",
        "# file_name = argv[1]\n",
        "# N = int(argv[2])\n",
        "print(solve15('popular-names.txt',5))"
      ],
      "execution_count": 13,
      "outputs": [
        {
          "output_type": "stream",
          "name": "stdout",
          "text": [
            "Benjamin\tM\t13381\t2018\n",
            "Elijah\tM\t12886\t2018\n",
            "Lucas\tM\t12585\t2018\n",
            "Mason\tM\t12435\t2018\n",
            "Logan\tM\t12352\t2018\n",
            "\n"
          ]
        }
      ]
    },
    {
      "cell_type": "code",
      "metadata": {
        "colab": {
          "base_uri": "https://localhost:8080/"
        },
        "id": "6uBurqOHdMaB",
        "outputId": "de617653-d0f8-497c-edd5-b95ced8ac193"
      },
      "source": [
        "!tail popular-names.txt -n 5"
      ],
      "execution_count": 14,
      "outputs": [
        {
          "output_type": "stream",
          "name": "stdout",
          "text": [
            "Benjamin\tM\t13381\t2018\n",
            "Elijah\tM\t12886\t2018\n",
            "Lucas\tM\t12585\t2018\n",
            "Mason\tM\t12435\t2018\n",
            "Logan\tM\t12352\t2018\n"
          ]
        }
      ]
    },
    {
      "cell_type": "markdown",
      "metadata": {
        "id": "7UMcdXR8cgql"
      },
      "source": [
        "## 16. ファイルをN分割する\n",
        "自然数Nをコマンドライン引数などの手段で受け取り，入力のファイルを行単位でN分割せよ．同様の処理をsplitコマンドで実現せよ．"
      ]
    },
    {
      "cell_type": "code",
      "metadata": {
        "colab": {
          "base_uri": "https://localhost:8080/"
        },
        "id": "ywwomHfn0ps5",
        "outputId": "8645aa67-cbf9-46e3-c154-de757089dc41"
      },
      "source": [
        "def solve16(file_name,N):\n",
        "  import math\n",
        "  with open(file_name,'r') as file:\n",
        "    lines = file.readlines()\n",
        "  length = len(lines)\n",
        "  M = math.ceil(length/N)\n",
        "  blocks = [ ''.join(lines[idx:idx+M]) for idx in range(0,length,M) ]\n",
        "  for i,block in enumerate(blocks):\n",
        "    with open('block_{0}.txt'.format(str(i).zfill(2)),'w') as file:\n",
        "      file.write(block)\n",
        "solve16('popular-names.txt',5)\n",
        "!ls"
      ],
      "execution_count": 15,
      "outputs": [
        {
          "output_type": "stream",
          "name": "stdout",
          "text": [
            "block_00.txt  block_02.txt  block_04.txt  col2.txt   popular-names.txt\n",
            "block_01.txt  block_03.txt  col1.txt\t  merge.txt  sample_data\n"
          ]
        }
      ]
    },
    {
      "cell_type": "code",
      "metadata": {
        "colab": {
          "base_uri": "https://localhost:8080/"
        },
        "id": "gwob7JE14OG5",
        "outputId": "8bf7946b-728a-4e67-cad9-b71388ea2f4d"
      },
      "source": [
        "!split popular-names.txt block_ -n 5 -d\n",
        "!ls"
      ],
      "execution_count": 16,
      "outputs": [
        {
          "output_type": "stream",
          "name": "stdout",
          "text": [
            "block_00      block_01.txt  block_03\t  block_04.txt\tmerge.txt\n",
            "block_00.txt  block_02\t    block_03.txt  col1.txt\tpopular-names.txt\n",
            "block_01      block_02.txt  block_04\t  col2.txt\tsample_data\n"
          ]
        }
      ]
    },
    {
      "cell_type": "markdown",
      "metadata": {
        "id": "ofiXr_G56DPg"
      },
      "source": [
        "## 17. １列目の文字列の異なり\n",
        "1列目の文字列の種類（異なる文字列の集合）を求めよ．確認にはcut, sort, uniqコマンドを用いよ．"
      ]
    },
    {
      "cell_type": "code",
      "metadata": {
        "colab": {
          "base_uri": "https://localhost:8080/"
        },
        "id": "uJHzu_276G7t",
        "outputId": "aa357209-5600-480e-e89d-48a910394025"
      },
      "source": [
        "def solve17(file_name):\n",
        "  with open(file_name,'r') as file:\n",
        "    lines = file.readlines()\n",
        "  uniques = list(set([line.split()[0] for line in lines]))\n",
        "  return sorted(uniques)\n",
        "solve17('popular-names.txt')[:5]"
      ],
      "execution_count": 17,
      "outputs": [
        {
          "output_type": "execute_result",
          "data": {
            "text/plain": [
              "['Abigail', 'Aiden', 'Alexander', 'Alexis', 'Alice']"
            ]
          },
          "metadata": {},
          "execution_count": 17
        }
      ]
    },
    {
      "cell_type": "code",
      "metadata": {
        "colab": {
          "base_uri": "https://localhost:8080/"
        },
        "id": "xnB4MFCt6xMn",
        "outputId": "cb887916-fee5-4cf5-9ebc-f110a313b11f"
      },
      "source": [
        "! cut -f 1 popular-names.txt | sort | uniq  | head -n 5"
      ],
      "execution_count": 18,
      "outputs": [
        {
          "output_type": "stream",
          "name": "stdout",
          "text": [
            "Abigail\n",
            "Aiden\n",
            "Alexander\n",
            "Alexis\n",
            "Alice\n"
          ]
        }
      ]
    },
    {
      "cell_type": "markdown",
      "metadata": {
        "id": "WPvPou6d7cCc"
      },
      "source": [
        "## 18. 各行を3コラム目の数値の降順にソート\n",
        "各行を3コラム目の数値の逆順で整列せよ（注意: 各行の内容は変更せずに並び替えよ）．確認にはsortコマンドを用いよ（この問題はコマンドで実行した時の結果と合わなくてもよい）．"
      ]
    },
    {
      "cell_type": "code",
      "metadata": {
        "colab": {
          "base_uri": "https://localhost:8080/"
        },
        "id": "tw03fdBl7T-s",
        "outputId": "7a7330b8-be84-4e9a-a5e4-79cfb3eb4f96"
      },
      "source": [
        "def solve18(file_name):\n",
        "  with open(file_name,'r') as file:\n",
        "    lines = file.readlines()\n",
        "  rows = [ line.split() for line in lines ]\n",
        "  sorted_rows = sorted(rows, key=lambda x:int(x[2]),reverse=True)\n",
        "  return sorted_rows\n",
        "solve18('popular-names.txt')[:10]"
      ],
      "execution_count": 19,
      "outputs": [
        {
          "output_type": "execute_result",
          "data": {
            "text/plain": [
              "[['Linda', 'F', '99689', '1947'],\n",
              " ['Linda', 'F', '96211', '1948'],\n",
              " ['James', 'M', '94757', '1947'],\n",
              " ['Michael', 'M', '92704', '1957'],\n",
              " ['Robert', 'M', '91640', '1947'],\n",
              " ['Linda', 'F', '91016', '1949'],\n",
              " ['Michael', 'M', '90656', '1956'],\n",
              " ['Michael', 'M', '90517', '1958'],\n",
              " ['James', 'M', '88584', '1948'],\n",
              " ['Michael', 'M', '88528', '1954']]"
            ]
          },
          "metadata": {},
          "execution_count": 19
        }
      ]
    },
    {
      "cell_type": "code",
      "metadata": {
        "colab": {
          "base_uri": "https://localhost:8080/"
        },
        "id": "1cTUqAiG77Oy",
        "outputId": "7fe0c4d8-18cf-4145-9e45-02b52f3edc49"
      },
      "source": [
        "!sort popular-names.txt -k 3 -n -r | head -n 10"
      ],
      "execution_count": 20,
      "outputs": [
        {
          "output_type": "stream",
          "name": "stdout",
          "text": [
            "Linda\tF\t99689\t1947\n",
            "Linda\tF\t96211\t1948\n",
            "James\tM\t94757\t1947\n",
            "Michael\tM\t92704\t1957\n",
            "Robert\tM\t91640\t1947\n",
            "Linda\tF\t91016\t1949\n",
            "Michael\tM\t90656\t1956\n",
            "Michael\tM\t90517\t1958\n",
            "James\tM\t88584\t1948\n",
            "Michael\tM\t88528\t1954\n"
          ]
        }
      ]
    },
    {
      "cell_type": "markdown",
      "metadata": {
        "id": "JMDQckeg9N0n"
      },
      "source": [
        "## 19. 各行の1コラム目の文字列の出現頻度を求め，出現頻度の高い順に並べる\n",
        "各行の1列目の文字列の出現頻度を求め，その高い順に並べて表示せよ．確認にはcut, uniq, sortコマンドを用いよ．"
      ]
    },
    {
      "cell_type": "code",
      "metadata": {
        "colab": {
          "base_uri": "https://localhost:8080/"
        },
        "id": "Jj0UGM-B8lZo",
        "outputId": "78f721d9-21d0-4551-fb06-82ee2dc480de"
      },
      "source": [
        "def solve19(file_name):\n",
        "  import pandas as pd\n",
        "  df = pd.read_table(file_name, header=None)\n",
        "  return df[0].value_counts()\n",
        "solve19('popular-names.txt')[:10]"
      ],
      "execution_count": 21,
      "outputs": [
        {
          "output_type": "execute_result",
          "data": {
            "text/plain": [
              "James        118\n",
              "William      111\n",
              "John         108\n",
              "Robert       108\n",
              "Mary          92\n",
              "Charles       75\n",
              "Michael       74\n",
              "Elizabeth     73\n",
              "Joseph        70\n",
              "Margaret      60\n",
              "Name: 0, dtype: int64"
            ]
          },
          "metadata": {},
          "execution_count": 21
        }
      ]
    },
    {
      "cell_type": "code",
      "metadata": {
        "colab": {
          "base_uri": "https://localhost:8080/"
        },
        "id": "4xde3JOw_qVQ",
        "outputId": "4b7afd4a-37b7-4fc2-b1e6-1b3ff348e254"
      },
      "source": [
        "!cut popular-names.txt -f 1 | sort | uniq -c | sort -n -r | head -n 10 "
      ],
      "execution_count": 22,
      "outputs": [
        {
          "output_type": "stream",
          "name": "stdout",
          "text": [
            "    118 James\n",
            "    111 William\n",
            "    108 Robert\n",
            "    108 John\n",
            "     92 Mary\n",
            "     75 Charles\n",
            "     74 Michael\n",
            "     73 Elizabeth\n",
            "     70 Joseph\n",
            "     60 Margaret\n"
          ]
        }
      ]
    }
  ]
}