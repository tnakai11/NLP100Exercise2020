{
  "nbformat": 4,
  "nbformat_minor": 0,
  "metadata": {
    "colab": {
      "name": "NLP100Exercise2020_00-09.ipynb",
      "provenance": [],
      "collapsed_sections": []
    },
    "kernelspec": {
      "name": "python3",
      "display_name": "Python 3"
    },
    "language_info": {
      "name": "python"
    }
  },
  "cells": [
    {
      "cell_type": "markdown",
      "metadata": {
        "id": "AQd1RCpgOZTj"
      },
      "source": [
        "言語処理百本ノック-01\n",
        "https://nlp100.github.io/ja/ch01.html"
      ]
    },
    {
      "cell_type": "markdown",
      "metadata": {
        "id": "VHOH16hjO1Es"
      },
      "source": [
        "# 第1章: 準備運動"
      ]
    },
    {
      "cell_type": "markdown",
      "metadata": {
        "id": "R3NNRLJWOpDr"
      },
      "source": [
        "## 00. 文字列の逆順\n",
        "\n",
        "文字列”stressed”の文字を逆に（末尾から先頭に向かって）並べた文字列を得よ．"
      ]
    },
    {
      "cell_type": "code",
      "metadata": {
        "colab": {
          "base_uri": "https://localhost:8080/",
          "height": 35
        },
        "id": "QzjWhz2AOLeS",
        "outputId": "5ed64cbe-12aa-4199-b07f-c4afc45c2297"
      },
      "source": [
        "def solve00(string):\n",
        "  gnirts = string[::-1]\n",
        "  return gnirts\n",
        "solve00(\"stressed\")"
      ],
      "execution_count": 3,
      "outputs": [
        {
          "output_type": "execute_result",
          "data": {
            "application/vnd.google.colaboratory.intrinsic+json": {
              "type": "string"
            },
            "text/plain": [
              "'desserts'"
            ]
          },
          "metadata": {},
          "execution_count": 3
        }
      ]
    },
    {
      "cell_type": "markdown",
      "metadata": {
        "id": "PJqVOxswPUsu"
      },
      "source": [
        "## 01. 「パタトクカシーー」\n",
        "「パタトクカシーー」という文字列の1,3,5,7文字目を取り出して連結した文字列を得よ"
      ]
    },
    {
      "cell_type": "code",
      "metadata": {
        "colab": {
          "base_uri": "https://localhost:8080/",
          "height": 35
        },
        "id": "FVUondt6OIwP",
        "outputId": "041e12fd-ab69-4304-ef1e-28fb761024a6"
      },
      "source": [
        "def solve01(string):\n",
        "  thinned = string[0::2]\n",
        "  return thinned\n",
        "solve01('パタトクカシーー')"
      ],
      "execution_count": 5,
      "outputs": [
        {
          "output_type": "execute_result",
          "data": {
            "application/vnd.google.colaboratory.intrinsic+json": {
              "type": "string"
            },
            "text/plain": [
              "'パトカー'"
            ]
          },
          "metadata": {},
          "execution_count": 5
        }
      ]
    },
    {
      "cell_type": "markdown",
      "metadata": {
        "id": "8x4QWBxJQbP4"
      },
      "source": [
        "## 02. 「パトカー」＋「タクシー」＝「パタトクカシーー」\n",
        "「パトカー」＋「タクシー」の文字を先頭から交互に連結して文字列「パタトクカシーー」を得よ．"
      ]
    },
    {
      "cell_type": "code",
      "metadata": {
        "colab": {
          "base_uri": "https://localhost:8080/",
          "height": 35
        },
        "id": "mIOVLKmVQe3e",
        "outputId": "cfd48d19-ec3f-4677-eeb2-12ceb21c6b70"
      },
      "source": [
        "def solve02(strings):\n",
        "  concatened = ''.join(sum([ list(x) for x in zip(*strings)],[]))\n",
        "  return concatened\n",
        "solve02(['パトカー','タクシー'])"
      ],
      "execution_count": 17,
      "outputs": [
        {
          "output_type": "execute_result",
          "data": {
            "application/vnd.google.colaboratory.intrinsic+json": {
              "type": "string"
            },
            "text/plain": [
              "'パタトクカシーー'"
            ]
          },
          "metadata": {},
          "execution_count": 17
        }
      ]
    },
    {
      "cell_type": "markdown",
      "metadata": {
        "id": "DBsOkVM_TRf2"
      },
      "source": [
        "## 03. 円周率\n",
        "“Now I need a drink, alcoholic of course, after the heavy lectures involving quantum mechanics.”という文を単語に分解し，各単語の（アルファベットの）文字数を先頭から出現順に並べたリストを作成せよ．"
      ]
    },
    {
      "cell_type": "code",
      "metadata": {
        "colab": {
          "base_uri": "https://localhost:8080/"
        },
        "id": "7iC2slPTTWOO",
        "outputId": "6f273dcc-9199-4aa0-a0a5-62c03a217fbe"
      },
      "source": [
        "def solve03(string):\n",
        "  import re\n",
        "  answer = [ len(x) for x in re.split('[,. ]',string) if len(x)>0]\n",
        "  return answer\n",
        "solve03(\"Now I need a drink, alcoholic of course, after the heavy lectures involving quantum mechanics.\")"
      ],
      "execution_count": 31,
      "outputs": [
        {
          "output_type": "execute_result",
          "data": {
            "text/plain": [
              "[3, 1, 4, 1, 5, 9, 2, 6, 5, 3, 5, 8, 9, 7, 9]"
            ]
          },
          "metadata": {},
          "execution_count": 31
        }
      ]
    },
    {
      "cell_type": "markdown",
      "metadata": {
        "id": "tmgG3KcKy7vD"
      },
      "source": [
        "## 04. 元素記号\n",
        "“Hi He Lied Because Boron Could Not Oxidize Fluorine. New Nations Might Also Sign Peace Security Clause. Arthur King Can.”という文を単語に分解し，1, 5, 6, 7, 8, 9, 15, 16, 19番目の単語は先頭の1文字，それ以外の単語は先頭の2文字を取り出し，取り出した文字列から単語の位置（先頭から何番目の単語か）への連想配列（辞書型もしくはマップ型）を作成せよ．"
      ]
    },
    {
      "cell_type": "code",
      "metadata": {
        "colab": {
          "base_uri": "https://localhost:8080/"
        },
        "id": "IQ6z4VMrzBoC",
        "outputId": "8ed30ade-7730-4b4f-eeed-feb9a5266a3f"
      },
      "source": [
        "def solve04(string,index):\n",
        "  items = string.split()\n",
        "  dictionary = dict([ [item[0],i+1] if i+1 in index else [item[0:2],i+1] for i, item   in enumerate(items) ])\n",
        "  return dictionary\n",
        "\n",
        "string = \"Hi He Lied Because Boron Could Not Oxidize Fluorine. New Nations Might Also Sign Peace Security Clause. Arthur King Can.\"\n",
        "index = [1, 5, 6, 7, 8, 9, 15, 16, 19]\n",
        "solve04(string,index)"
      ],
      "execution_count": 8,
      "outputs": [
        {
          "output_type": "execute_result",
          "data": {
            "text/plain": [
              "{'Al': 13,\n",
              " 'Ar': 18,\n",
              " 'B': 5,\n",
              " 'Be': 4,\n",
              " 'C': 6,\n",
              " 'Ca': 20,\n",
              " 'Cl': 17,\n",
              " 'F': 9,\n",
              " 'H': 1,\n",
              " 'He': 2,\n",
              " 'K': 19,\n",
              " 'Li': 3,\n",
              " 'Mi': 12,\n",
              " 'N': 7,\n",
              " 'Na': 11,\n",
              " 'Ne': 10,\n",
              " 'O': 8,\n",
              " 'P': 15,\n",
              " 'S': 16,\n",
              " 'Si': 14}"
            ]
          },
          "metadata": {},
          "execution_count": 8
        }
      ]
    },
    {
      "cell_type": "markdown",
      "metadata": {
        "id": "VQVTSPXX1Qm2"
      },
      "source": [
        "## 05. n-gram\n",
        "与えられたシーケンス（文字列やリストなど）からn-gramを作る関数を作成せよ．この関数を用い，”I am an NLPer”という文から単語bi-gram，文字bi-gramを得よ．"
      ]
    },
    {
      "cell_type": "code",
      "metadata": {
        "colab": {
          "base_uri": "https://localhost:8080/"
        },
        "id": "xaVBGGQ-1dqn",
        "outputId": "d17c2584-f68d-4597-8d13-36ea5acf616e"
      },
      "source": [
        "def solve05(string,gram_type,n):\n",
        "  items = []\n",
        "  if gram_type=='単語':\n",
        "    items = string.split()\n",
        "    length = len(items)\n",
        "    grams = [ ' '.join(items[i:i+n]) for i in range(length-n+1) ]\n",
        "  elif gram_type=='文字':\n",
        "    items = string\n",
        "    length = len(items)\n",
        "    grams = [ items[i:i+n] for i in range(length-n+1) ]\n",
        "  else:\n",
        "    pass\n",
        "  \n",
        "  return grams\n",
        "solve05('I am an NLPer','単語',2)"
      ],
      "execution_count": 22,
      "outputs": [
        {
          "output_type": "execute_result",
          "data": {
            "text/plain": [
              "['I am', 'am an', 'an NLPer']"
            ]
          },
          "metadata": {},
          "execution_count": 22
        }
      ]
    },
    {
      "cell_type": "code",
      "metadata": {
        "colab": {
          "base_uri": "https://localhost:8080/"
        },
        "id": "kJwnIz9L4NTy",
        "outputId": "35668882-dea2-4959-af33-cad6b230b0f6"
      },
      "source": [
        "solve05('I am an NLPer','文字',2)"
      ],
      "execution_count": 23,
      "outputs": [
        {
          "output_type": "execute_result",
          "data": {
            "text/plain": [
              "['I ', ' a', 'am', 'm ', ' a', 'an', 'n ', ' N', 'NL', 'LP', 'Pe', 'er']"
            ]
          },
          "metadata": {},
          "execution_count": 23
        }
      ]
    },
    {
      "cell_type": "markdown",
      "metadata": {
        "id": "gM7p4CMC4yWF"
      },
      "source": [
        "## 06. 集合\n",
        "“paraparaparadise”と”paragraph”に含まれる文字bi-gramの集合を，それぞれ, XとYとして求め，XとYの和集合，積集合，差集合を求めよ．さらに，’se’というbi-gramがXおよびYに含まれるかどうかを調べよ．"
      ]
    },
    {
      "cell_type": "code",
      "metadata": {
        "colab": {
          "base_uri": "https://localhost:8080/"
        },
        "id": "2RtuyiOr42yr",
        "outputId": "0ae1c7de-c2bd-4ac1-9b9c-ccd5f8375e4f"
      },
      "source": [
        "def solve06(string1,string2):\n",
        "  gram_type = '文字'\n",
        "  X = set(solve05(string1,gram_type,2))\n",
        "  Y = set(solve05(string2,gram_type,2))\n",
        "  union = X | Y\n",
        "  intersection = X & Y\n",
        "  dif1 = X - Y\n",
        "  dif2 = Y - X\n",
        "  se_in_X = 'se' in X\n",
        "  se_in_Y = 'se' in Y\n",
        "  return union, intersection, dif1, dif2, se_in_X, se_in_Y\n",
        "solve06('paraparaparadise','paragraph')"
      ],
      "execution_count": 25,
      "outputs": [
        {
          "output_type": "execute_result",
          "data": {
            "text/plain": [
              "({'ad', 'ag', 'ap', 'ar', 'di', 'gr', 'is', 'pa', 'ph', 'ra', 'se'},\n",
              " {'ap', 'ar', 'pa', 'ra'},\n",
              " {'ad', 'di', 'is', 'se'},\n",
              " {'ag', 'gr', 'ph'},\n",
              " True,\n",
              " False)"
            ]
          },
          "metadata": {},
          "execution_count": 25
        }
      ]
    },
    {
      "cell_type": "markdown",
      "metadata": {
        "id": "lvuTed1x6Drj"
      },
      "source": [
        "## 07. テンプレートによる文生成\n",
        "引数x, y, zを受け取り「x時のyはz」という文字列を返す関数を実装せよ．さらに，x=12, y=”気温”, z=22.4として，実行結果を確認せよ．"
      ]
    },
    {
      "cell_type": "code",
      "metadata": {
        "colab": {
          "base_uri": "https://localhost:8080/",
          "height": 35
        },
        "id": "KiujeSDu6J5F",
        "outputId": "9be155c1-930f-4a53-a3ea-cc28ec10730b"
      },
      "source": [
        "def solve07(x,y,z):\n",
        "  template = '{0}時の{1}は{2}'\n",
        "  response = template.format(x,y,z)\n",
        "  return response\n",
        "solve07(12,'気温',22.4)"
      ],
      "execution_count": 26,
      "outputs": [
        {
          "output_type": "execute_result",
          "data": {
            "application/vnd.google.colaboratory.intrinsic+json": {
              "type": "string"
            },
            "text/plain": [
              "'12時の気温は22.4'"
            ]
          },
          "metadata": {},
          "execution_count": 26
        }
      ]
    },
    {
      "cell_type": "markdown",
      "metadata": {
        "id": "3cDDaYJg6-8U"
      },
      "source": [
        "## 08. 暗号文\n",
        "与えられた文字列の各文字を，以下の仕様で変換する関数cipherを実装せよ．\n",
        "\n",
        "英小文字ならば(219 - 文字コード)の文字に置換\n",
        "その他の文字はそのまま出力\n",
        "この関数を用い，英語のメッセージを暗号化・復号化せよ．"
      ]
    },
    {
      "cell_type": "code",
      "metadata": {
        "colab": {
          "base_uri": "https://localhost:8080/",
          "height": 35
        },
        "id": "rZAS3nrJ7Hap",
        "outputId": "7c3bf001-ade8-4a52-f719-a736625bee4a"
      },
      "source": [
        "def cipher(string):\n",
        "  func = lambda character: chr(219-ord(character)) if character.islower() else character\n",
        "  answer = ''.join(list(map(func,string)))\n",
        "  return answer\n",
        "\n",
        "def solve08(string):\n",
        "  return cipher(string)\n",
        "\n",
        "solve08('abcdefg')"
      ],
      "execution_count": 34,
      "outputs": [
        {
          "output_type": "execute_result",
          "data": {
            "application/vnd.google.colaboratory.intrinsic+json": {
              "type": "string"
            },
            "text/plain": [
              "'zyxwvut'"
            ]
          },
          "metadata": {},
          "execution_count": 34
        }
      ]
    },
    {
      "cell_type": "markdown",
      "metadata": {
        "id": "lMInUYVQ9Muc"
      },
      "source": [
        "## 09. Typoglycemia\n",
        "スペースで区切られた単語列に対して，各単語の先頭と末尾の文字は残し，それ以外の文字の順序をランダムに並び替えるプログラムを作成せよ．ただし，長さが４以下の単語は並び替えないこととする．適当な英語の文（例えば”I couldn’t believe that I could actually understand what I was reading : the phenomenal power of the human mind .”）を与え，その実行結果を確認せよ．"
      ]
    },
    {
      "cell_type": "code",
      "metadata": {
        "colab": {
          "base_uri": "https://localhost:8080/",
          "height": 35
        },
        "id": "6LmzSXrO9RyS",
        "outputId": "2a706d78-1753-4df6-c3eb-b16983d1a9e5"
      },
      "source": [
        "def solve09(string):\n",
        "  import random\n",
        "  random.seed(0)\n",
        "  items = string.split()\n",
        "  func = lambda item: item[0] + ''.join(random.sample(item[1:-1],len(item)-2)) + item[-1] if len(item)>4 else item\n",
        "  answer = ' '.join([ func(item) for item in items ])\n",
        "  return answer\n",
        "solve09('I couldn\\'t believe that I could actually understand what I was reading : the phenomenal power of the human mind .')"
      ],
      "execution_count": 58,
      "outputs": [
        {
          "output_type": "execute_result",
          "data": {
            "application/vnd.google.colaboratory.intrinsic+json": {
              "type": "string"
            },
            "text/plain": [
              "\"I cd'oulnt bieleve that I cuold alutacly utrsnedand what I was rniadeg : the phaeonneml power of the huamn mind .\""
            ]
          },
          "metadata": {},
          "execution_count": 58
        }
      ]
    }
  ]
}